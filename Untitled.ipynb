{
 "cells": [
  {
   "cell_type": "code",
   "execution_count": 9,
   "metadata": {
    "collapsed": true
   },
   "outputs": [],
   "source": [
    "import requests\n",
    "from bs4 import BeautifulSoup\n"
   ]
  },
  {
   "cell_type": "code",
   "execution_count": 3,
   "metadata": {
    "collapsed": true
   },
   "outputs": [],
   "source": [
    "url = 'http://www.flipkart.com/asus-zenwatch-2-silver-case-rubber-strap-smartwatch/p/itmeef7ffqgeaqwp?pid=SMWEEF7FEERVGPYK&al=mr%2BmkGnticQBy4GaDrJghsldugMWZuE7eGHgUTGjVrpuemy%2BA6DOF5wKIAtFmiWAFjJaJ%2B3cvIk%3D&ref=L%3A-8620890904688767914&srno=b_2'\n"
   ]
  },
  {
   "cell_type": "code",
   "execution_count": 4,
   "metadata": {
    "collapsed": false
   },
   "outputs": [
    {
     "data": {
      "text/plain": [
       "'http://www.flipkart.com/asus-zenwatch-2-silver-case-rubber-strap-smartwatch/p/itmeef7ffqgeaqwp?pid=SMWEEF7FEERVGPYK&al=mr%2BmkGnticQBy4GaDrJghsldugMWZuE7eGHgUTGjVrpuemy%2BA6DOF5wKIAtFmiWAFjJaJ%2B3cvIk%3D&ref=L%3A-8620890904688767914&srno=b_2'"
      ]
     },
     "execution_count": 4,
     "metadata": {},
     "output_type": "execute_result"
    }
   ],
   "source": [
    "url\n"
   ]
  },
  {
   "cell_type": "code",
   "execution_count": 5,
   "metadata": {
    "collapsed": true
   },
   "outputs": [],
   "source": [
    "r = requests.get(url)"
   ]
  },
  {
   "cell_type": "code",
   "execution_count": 8,
   "metadata": {
    "collapsed": false
   },
   "outputs": [],
   "source": [
    "soup  = Bea r.text"
   ]
  },
  {
   "cell_type": "code",
   "execution_count": null,
   "metadata": {
    "collapsed": true
   },
   "outputs": [],
   "source": [
    "soup"
   ]
  }
 ],
 "metadata": {
  "kernelspec": {
   "display_name": "Python 3",
   "language": "python",
   "name": "python3"
  },
  "language_info": {
   "codemirror_mode": {
    "name": "ipython",
    "version": 3
   },
   "file_extension": ".py",
   "mimetype": "text/x-python",
   "name": "python",
   "nbconvert_exporter": "python",
   "pygments_lexer": "ipython3",
   "version": "3.5.1"
  }
 },
 "nbformat": 4,
 "nbformat_minor": 0
}
